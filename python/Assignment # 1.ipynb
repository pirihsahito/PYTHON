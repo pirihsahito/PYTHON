{
 "cells": [
  {
   "cell_type": "code",
   "execution_count": 1,
   "metadata": {},
   "outputs": [
    {
     "name": "stdout",
     "output_type": "stream",
     "text": [
      "Twinkle, twinkle, little star,\n",
      "       How I wonder what you are !\n",
      "             Up above the world so high,\n",
      "             Like a diamond in tthe sky.\n",
      "Twinkle, twinkle, little star,\n",
      "       How I wonder what you are\n"
     ]
    }
   ],
   "source": [
    "print (\"Twinkle, twinkle, little star,\")\n",
    "print(\"       How I wonder what you are !\")\n",
    "print(\"             Up above the world so high,\")               \n",
    "print(\"             Like a diamond in tthe sky.\")                \n",
    "print(\"Twinkle, twinkle, little star,\")  \n",
    "print(\"       How I wonder what you are\") "
   ]
  },
  {
   "cell_type": "code",
   "execution_count": 1,
   "metadata": {},
   "outputs": [
    {
     "name": "stdout",
     "output_type": "stream",
     "text": [
      "Python Version\n",
      "Version info.\n",
      "sys.version_info(major=3, minor=7, micro=4, releaselevel='final', serial=0)\n"
     ]
    }
   ],
   "source": [
    "import sys\n",
    "print(\"Python Version\")\n",
    "print(\"Version info.\")\n",
    "print(sys.version_info)"
   ]
  },
  {
   "cell_type": "code",
   "execution_count": 1,
   "metadata": {},
   "outputs": [
    {
     "name": "stdout",
     "output_type": "stream",
     "text": [
      "Today's Date and Time: 2019-11-08 00:50:33.511151\n"
     ]
    }
   ],
   "source": [
    "from datetime import datetime\n",
    "today = datetime.today()\n",
    "print(\"Today's Date and Time:\", today)"
   ]
  },
  {
   "cell_type": "code",
   "execution_count": 1,
   "metadata": {},
   "outputs": [
    {
     "name": "stdout",
     "output_type": "stream",
     "text": [
      "Value of Radius:4\n",
      "Area Of Circle:\n",
      "50.24\n"
     ]
    }
   ],
   "source": [
    "r = int(input(\"Value of Radius:\"))\n",
    "pi = 3.14\n",
    "print(\"Area Of Circle:\")\n",
    "print(pi*(r**2))"
   ]
  },
  {
   "cell_type": "code",
   "execution_count": 2,
   "metadata": {},
   "outputs": [
    {
     "name": "stdout",
     "output_type": "stream",
     "text": [
      "Enter Your First Name :PIRIH\n",
      "Enter Your Last Name : SAHITO\n",
      "SAHITO PIRIH\n"
     ]
    }
   ],
   "source": [
    "FirstName = input(\"Enter Your First Name :\")\n",
    "LastName = input(\"Enter Your Last Name : \")\n",
    "print(LastName + \" \" + FirstName)"
   ]
  },
  {
   "cell_type": "code",
   "execution_count": 4,
   "metadata": {},
   "outputs": [
    {
     "name": "stdout",
     "output_type": "stream",
     "text": [
      "Enter 1st Number :4\n",
      "Enter 2nd Number :7\n",
      "Sum Of Two Numbers :\n",
      "11\n"
     ]
    }
   ],
   "source": [
    "num1 = int(input(\"Enter 1st Number :\"))\n",
    "num2 = int(input(\"Enter 2nd Number :\"))\n",
    "print(\"Sum Of Two Numbers :\")\n",
    "print(num1 + num2)"
   ]
  }
 ],
 "metadata": {
  "kernelspec": {
   "display_name": "Python 3",
   "language": "python",
   "name": "python3"
  },
  "language_info": {
   "codemirror_mode": {
    "name": "ipython",
    "version": 3
   },
   "file_extension": ".py",
   "mimetype": "text/x-python",
   "name": "python",
   "nbconvert_exporter": "python",
   "pygments_lexer": "ipython3",
   "version": "3.7.4"
  }
 },
 "nbformat": 4,
 "nbformat_minor": 2
}
