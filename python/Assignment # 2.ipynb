{
 "cells": [
  {
   "cell_type": "code",
   "execution_count": 1,
   "metadata": {},
   "outputs": [
    {
     "name": "stdout",
     "output_type": "stream",
     "text": [
      "ENTER MARKS OF 1ST SUBJECT:78\n",
      "ENTER MARKS OF 2ND SUBJECT:70\n",
      "ENTER MARKS OF 3RD SUBJECT:67\n",
      "ENTER MARKS OF 4TH SUBJECT:59\n",
      "ENTER MARKS OF 5TH SUBJECT:87\n",
      "Grade:A\n"
     ]
    }
   ],
   "source": [
    "sub1 = int(input(\"ENTER MARKS OF 1ST SUBJECT:\"))\n",
    "sub2 = int(input(\"ENTER MARKS OF 2ND SUBJECT:\"))\n",
    "sub3 = int(input(\"ENTER MARKS OF 3RD SUBJECT:\"))\n",
    "sub4 = int(input(\"ENTER MARKS OF 4TH SUBJECT:\"))\n",
    "sub5 = int(input(\"ENTER MARKS OF 5TH SUBJECT:\"))\n",
    "per = ((sub1 + sub2 + sub3 + sub4 + sub5)/500)*100\n",
    "if(per>=80):\n",
    "    print(\"Grade:A+\")\n",
    "elif(per>=70 and per<80):\n",
    "    print(\"Grade:A\")\n",
    "elif(per>=60 and per<70):\n",
    "    print(\"Grade:B\")\n",
    "elif(per>=50 and per<60):\n",
    "    print(\"Grade:C\")\n",
    "elif(per>=40 and per<50):\n",
    "    print(\"Grade:D\")\n",
    "else:\n",
    "    print(\"FAIL\")"
   ]
  },
  {
   "cell_type": "code",
   "execution_count": 2,
   "metadata": {},
   "outputs": [
    {
     "name": "stdout",
     "output_type": "stream",
     "text": [
      "ENTER ANY NUMBER:70\n",
      "ENTERED NUMBER IS EVEN\n"
     ]
    }
   ],
   "source": [
    "x = int(input(\"ENTER ANY NUMBER:\"))\n",
    "if(x%2==0):\n",
    "    print(\"ENTERED NUMBER IS EVEN\")\n",
    "else:\n",
    "    print(\"ENTERED NUMBER IS ODD\")"
   ]
  },
  {
   "cell_type": "code",
   "execution_count": 3,
   "metadata": {},
   "outputs": [
    {
     "name": "stdout",
     "output_type": "stream",
     "text": [
      "NUMBER OF ITEMS IN LIST:\n",
      "7\n"
     ]
    }
   ],
   "source": [
    "list_len = [1,3,7,9,11,13,15]\n",
    "print (\"NUMBER OF ITEMS IN LIST:\")\n",
    "print(len(list_len))"
   ]
  },
  {
   "cell_type": "code",
   "execution_count": 4,
   "metadata": {},
   "outputs": [
    {
     "name": "stdout",
     "output_type": "stream",
     "text": [
      "SUM OF NUMBERS IN LIST:\n",
      "16\n"
     ]
    }
   ],
   "source": [
    "a = [1,3,5,7]\n",
    "b = sum(a)\n",
    "print(\"SUM OF NUMBERS IN LIST:\")\n",
    "print (b)"
   ]
  },
  {
   "cell_type": "code",
   "execution_count": 5,
   "metadata": {},
   "outputs": [
    {
     "name": "stdout",
     "output_type": "stream",
     "text": [
      "LARGEST NUMBER IN THE LIST:\n",
      "70\n"
     ]
    }
   ],
   "source": [
    "list = [19,70,23,56,31,45,44]\n",
    "list.sort()\n",
    "print(\"LARGEST NUMBER IN THE LIST:\")\n",
    "print(list[-1])"
   ]
  },
  {
   "cell_type": "code",
   "execution_count": 6,
   "metadata": {},
   "outputs": [
    {
     "name": "stdout",
     "output_type": "stream",
     "text": [
      "1\n",
      "1\n",
      "2\n",
      "3\n"
     ]
    }
   ],
   "source": [
    "a = [1,1,2,3,5,8,13,21,34,55,89]\n",
    "for i in a:\n",
    "    if i < 5:\n",
    "        print(i)"
   ]
  },
  {
   "cell_type": "code",
   "execution_count": null,
   "metadata": {},
   "outputs": [],
   "source": []
  }
 ],
 "metadata": {
  "kernelspec": {
   "display_name": "Python 3",
   "language": "python",
   "name": "python3"
  },
  "language_info": {
   "codemirror_mode": {
    "name": "ipython",
    "version": 3
   },
   "file_extension": ".py",
   "mimetype": "text/x-python",
   "name": "python",
   "nbconvert_exporter": "python",
   "pygments_lexer": "ipython3",
   "version": "3.7.4"
  }
 },
 "nbformat": 4,
 "nbformat_minor": 2
}
